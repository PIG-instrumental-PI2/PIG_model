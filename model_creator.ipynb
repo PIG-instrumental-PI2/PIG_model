{
 "cells": [
  {
   "cell_type": "markdown",
   "metadata": {},
   "source": [
    "# Clustering Model"
   ]
  },
  {
   "cell_type": "code",
   "execution_count": 1,
   "metadata": {},
   "outputs": [],
   "source": [
    "import pandas as pd\n",
    "import numpy as np\n",
    "import matplotlib.pyplot as plt\n",
    "plt.rcParams[\"figure.figsize\"] = (15,5)"
   ]
  },
  {
   "cell_type": "code",
   "execution_count": 2,
   "metadata": {},
   "outputs": [
    {
     "data": {
      "text/plain": [
       "150000"
      ]
     },
     "execution_count": 2,
     "metadata": {},
     "output_type": "execute_result"
    }
   ],
   "source": [
    "df = pd.read_csv('dataset/near_30kHz_150kS_8.txt')\n",
    "len(df)"
   ]
  },
  {
   "cell_type": "code",
   "execution_count": 3,
   "metadata": {
    "scrolled": true
   },
   "outputs": [
    {
     "data": {
      "text/html": [
       "<div>\n",
       "<style scoped>\n",
       "    .dataframe tbody tr th:only-of-type {\n",
       "        vertical-align: middle;\n",
       "    }\n",
       "\n",
       "    .dataframe tbody tr th {\n",
       "        vertical-align: top;\n",
       "    }\n",
       "\n",
       "    .dataframe thead th {\n",
       "        text-align: right;\n",
       "    }\n",
       "</style>\n",
       "<table border=\"1\" class=\"dataframe\">\n",
       "  <thead>\n",
       "    <tr style=\"text-align: right;\">\n",
       "      <th></th>\n",
       "      <th>bx1</th>\n",
       "      <th>bx2</th>\n",
       "      <th>bx3</th>\n",
       "      <th>bx4</th>\n",
       "      <th>bx5</th>\n",
       "      <th>bx6</th>\n",
       "      <th>bx7</th>\n",
       "      <th>bx8</th>\n",
       "      <th>bx9</th>\n",
       "      <th>bx10</th>\n",
       "      <th>...</th>\n",
       "      <th>g2</th>\n",
       "      <th>g3</th>\n",
       "      <th>g4</th>\n",
       "      <th>g5</th>\n",
       "      <th>g6</th>\n",
       "      <th>g7</th>\n",
       "      <th>g8</th>\n",
       "      <th>g9</th>\n",
       "      <th>g10</th>\n",
       "      <th>encoder</th>\n",
       "    </tr>\n",
       "  </thead>\n",
       "  <tbody>\n",
       "    <tr>\n",
       "      <th>0</th>\n",
       "      <td>2.4947</td>\n",
       "      <td>2.4914</td>\n",
       "      <td>2.4881</td>\n",
       "      <td>2.4891</td>\n",
       "      <td>2.4881</td>\n",
       "      <td>2.4914</td>\n",
       "      <td>2.4955</td>\n",
       "      <td>2.4959</td>\n",
       "      <td>2.5017</td>\n",
       "      <td>2.5017</td>\n",
       "      <td>...</td>\n",
       "      <td>2.3638</td>\n",
       "      <td>2.3515</td>\n",
       "      <td>2.3496</td>\n",
       "      <td>2.3293</td>\n",
       "      <td>2.3422</td>\n",
       "      <td>2.3322</td>\n",
       "      <td>2.3486</td>\n",
       "      <td>2.3577</td>\n",
       "      <td>2.3535</td>\n",
       "      <td>0.2452</td>\n",
       "    </tr>\n",
       "    <tr>\n",
       "      <th>1</th>\n",
       "      <td>2.4963</td>\n",
       "      <td>2.4907</td>\n",
       "      <td>2.4878</td>\n",
       "      <td>2.4897</td>\n",
       "      <td>2.4878</td>\n",
       "      <td>2.4917</td>\n",
       "      <td>2.4955</td>\n",
       "      <td>2.4952</td>\n",
       "      <td>2.5033</td>\n",
       "      <td>2.5017</td>\n",
       "      <td>...</td>\n",
       "      <td>2.3638</td>\n",
       "      <td>2.3522</td>\n",
       "      <td>2.3493</td>\n",
       "      <td>2.3303</td>\n",
       "      <td>2.3422</td>\n",
       "      <td>2.3328</td>\n",
       "      <td>2.3477</td>\n",
       "      <td>2.3580</td>\n",
       "      <td>2.3538</td>\n",
       "      <td>0.2478</td>\n",
       "    </tr>\n",
       "    <tr>\n",
       "      <th>2</th>\n",
       "      <td>2.4947</td>\n",
       "      <td>2.4904</td>\n",
       "      <td>2.4881</td>\n",
       "      <td>2.4894</td>\n",
       "      <td>2.4878</td>\n",
       "      <td>2.4910</td>\n",
       "      <td>2.4959</td>\n",
       "      <td>2.4955</td>\n",
       "      <td>2.5017</td>\n",
       "      <td>2.5033</td>\n",
       "      <td>...</td>\n",
       "      <td>2.3638</td>\n",
       "      <td>2.3525</td>\n",
       "      <td>2.3502</td>\n",
       "      <td>2.3296</td>\n",
       "      <td>2.3409</td>\n",
       "      <td>2.3335</td>\n",
       "      <td>2.3480</td>\n",
       "      <td>2.3580</td>\n",
       "      <td>2.3548</td>\n",
       "      <td>0.2449</td>\n",
       "    </tr>\n",
       "    <tr>\n",
       "      <th>3</th>\n",
       "      <td>2.4944</td>\n",
       "      <td>2.4917</td>\n",
       "      <td>2.4878</td>\n",
       "      <td>2.4885</td>\n",
       "      <td>2.4888</td>\n",
       "      <td>2.4904</td>\n",
       "      <td>2.4971</td>\n",
       "      <td>2.4959</td>\n",
       "      <td>2.5026</td>\n",
       "      <td>2.5036</td>\n",
       "      <td>...</td>\n",
       "      <td>2.3634</td>\n",
       "      <td>2.3515</td>\n",
       "      <td>2.3502</td>\n",
       "      <td>2.3299</td>\n",
       "      <td>2.3406</td>\n",
       "      <td>2.3332</td>\n",
       "      <td>2.3486</td>\n",
       "      <td>2.3580</td>\n",
       "      <td>2.3538</td>\n",
       "      <td>0.2429</td>\n",
       "    </tr>\n",
       "    <tr>\n",
       "      <th>4</th>\n",
       "      <td>2.4940</td>\n",
       "      <td>2.4910</td>\n",
       "      <td>2.4872</td>\n",
       "      <td>2.4891</td>\n",
       "      <td>2.4888</td>\n",
       "      <td>2.4901</td>\n",
       "      <td>2.4952</td>\n",
       "      <td>2.4955</td>\n",
       "      <td>2.5017</td>\n",
       "      <td>2.5094</td>\n",
       "      <td>...</td>\n",
       "      <td>2.3644</td>\n",
       "      <td>2.3509</td>\n",
       "      <td>2.3499</td>\n",
       "      <td>2.3296</td>\n",
       "      <td>2.3406</td>\n",
       "      <td>2.3335</td>\n",
       "      <td>2.3477</td>\n",
       "      <td>2.3564</td>\n",
       "      <td>2.3531</td>\n",
       "      <td>0.2391</td>\n",
       "    </tr>\n",
       "    <tr>\n",
       "      <th>5</th>\n",
       "      <td>2.4952</td>\n",
       "      <td>2.4910</td>\n",
       "      <td>2.4878</td>\n",
       "      <td>2.4891</td>\n",
       "      <td>2.4888</td>\n",
       "      <td>2.4917</td>\n",
       "      <td>2.4955</td>\n",
       "      <td>2.4959</td>\n",
       "      <td>2.5026</td>\n",
       "      <td>2.5091</td>\n",
       "      <td>...</td>\n",
       "      <td>2.3644</td>\n",
       "      <td>2.3506</td>\n",
       "      <td>2.3506</td>\n",
       "      <td>2.3309</td>\n",
       "      <td>2.3419</td>\n",
       "      <td>2.3325</td>\n",
       "      <td>2.3483</td>\n",
       "      <td>2.3560</td>\n",
       "      <td>2.3535</td>\n",
       "      <td>0.2310</td>\n",
       "    </tr>\n",
       "    <tr>\n",
       "      <th>6</th>\n",
       "      <td>2.4942</td>\n",
       "      <td>2.4910</td>\n",
       "      <td>2.4888</td>\n",
       "      <td>2.4888</td>\n",
       "      <td>2.4888</td>\n",
       "      <td>2.4907</td>\n",
       "      <td>2.4962</td>\n",
       "      <td>2.4959</td>\n",
       "      <td>2.5017</td>\n",
       "      <td>2.5097</td>\n",
       "      <td>...</td>\n",
       "      <td>2.3638</td>\n",
       "      <td>2.3506</td>\n",
       "      <td>2.3496</td>\n",
       "      <td>2.3306</td>\n",
       "      <td>2.3422</td>\n",
       "      <td>2.3332</td>\n",
       "      <td>2.3483</td>\n",
       "      <td>2.3583</td>\n",
       "      <td>2.3541</td>\n",
       "      <td>0.2249</td>\n",
       "    </tr>\n",
       "    <tr>\n",
       "      <th>7</th>\n",
       "      <td>2.4934</td>\n",
       "      <td>2.4914</td>\n",
       "      <td>2.4885</td>\n",
       "      <td>2.4881</td>\n",
       "      <td>2.4878</td>\n",
       "      <td>2.4904</td>\n",
       "      <td>2.4962</td>\n",
       "      <td>2.4959</td>\n",
       "      <td>2.5020</td>\n",
       "      <td>2.5104</td>\n",
       "      <td>...</td>\n",
       "      <td>2.3660</td>\n",
       "      <td>2.3496</td>\n",
       "      <td>2.3502</td>\n",
       "      <td>2.3332</td>\n",
       "      <td>2.3425</td>\n",
       "      <td>2.3332</td>\n",
       "      <td>2.3486</td>\n",
       "      <td>2.3580</td>\n",
       "      <td>2.3538</td>\n",
       "      <td>0.2214</td>\n",
       "    </tr>\n",
       "    <tr>\n",
       "      <th>8</th>\n",
       "      <td>2.4931</td>\n",
       "      <td>2.4914</td>\n",
       "      <td>2.4875</td>\n",
       "      <td>2.4888</td>\n",
       "      <td>2.4878</td>\n",
       "      <td>2.4910</td>\n",
       "      <td>2.4949</td>\n",
       "      <td>2.4959</td>\n",
       "      <td>2.5010</td>\n",
       "      <td>2.5126</td>\n",
       "      <td>...</td>\n",
       "      <td>2.3651</td>\n",
       "      <td>2.3496</td>\n",
       "      <td>2.3519</td>\n",
       "      <td>2.3306</td>\n",
       "      <td>2.3432</td>\n",
       "      <td>2.3332</td>\n",
       "      <td>2.3480</td>\n",
       "      <td>2.3589</td>\n",
       "      <td>2.3531</td>\n",
       "      <td>0.2207</td>\n",
       "    </tr>\n",
       "    <tr>\n",
       "      <th>9</th>\n",
       "      <td>2.4934</td>\n",
       "      <td>2.4914</td>\n",
       "      <td>2.4878</td>\n",
       "      <td>2.4891</td>\n",
       "      <td>2.4868</td>\n",
       "      <td>2.4907</td>\n",
       "      <td>2.4965</td>\n",
       "      <td>2.4959</td>\n",
       "      <td>2.5023</td>\n",
       "      <td>2.5113</td>\n",
       "      <td>...</td>\n",
       "      <td>2.3641</td>\n",
       "      <td>2.3499</td>\n",
       "      <td>2.3502</td>\n",
       "      <td>2.3309</td>\n",
       "      <td>2.3412</td>\n",
       "      <td>2.3341</td>\n",
       "      <td>2.3473</td>\n",
       "      <td>2.3583</td>\n",
       "      <td>2.3525</td>\n",
       "      <td>0.2239</td>\n",
       "    </tr>\n",
       "  </tbody>\n",
       "</table>\n",
       "<p>10 rows × 31 columns</p>\n",
       "</div>"
      ],
      "text/plain": [
       "      bx1     bx2     bx3     bx4     bx5     bx6     bx7     bx8     bx9  \\\n",
       "0  2.4947  2.4914  2.4881  2.4891  2.4881  2.4914  2.4955  2.4959  2.5017   \n",
       "1  2.4963  2.4907  2.4878  2.4897  2.4878  2.4917  2.4955  2.4952  2.5033   \n",
       "2  2.4947  2.4904  2.4881  2.4894  2.4878  2.4910  2.4959  2.4955  2.5017   \n",
       "3  2.4944  2.4917  2.4878  2.4885  2.4888  2.4904  2.4971  2.4959  2.5026   \n",
       "4  2.4940  2.4910  2.4872  2.4891  2.4888  2.4901  2.4952  2.4955  2.5017   \n",
       "5  2.4952  2.4910  2.4878  2.4891  2.4888  2.4917  2.4955  2.4959  2.5026   \n",
       "6  2.4942  2.4910  2.4888  2.4888  2.4888  2.4907  2.4962  2.4959  2.5017   \n",
       "7  2.4934  2.4914  2.4885  2.4881  2.4878  2.4904  2.4962  2.4959  2.5020   \n",
       "8  2.4931  2.4914  2.4875  2.4888  2.4878  2.4910  2.4949  2.4959  2.5010   \n",
       "9  2.4934  2.4914  2.4878  2.4891  2.4868  2.4907  2.4965  2.4959  2.5023   \n",
       "\n",
       "     bx10  ...      g2      g3      g4      g5      g6      g7      g8  \\\n",
       "0  2.5017  ...  2.3638  2.3515  2.3496  2.3293  2.3422  2.3322  2.3486   \n",
       "1  2.5017  ...  2.3638  2.3522  2.3493  2.3303  2.3422  2.3328  2.3477   \n",
       "2  2.5033  ...  2.3638  2.3525  2.3502  2.3296  2.3409  2.3335  2.3480   \n",
       "3  2.5036  ...  2.3634  2.3515  2.3502  2.3299  2.3406  2.3332  2.3486   \n",
       "4  2.5094  ...  2.3644  2.3509  2.3499  2.3296  2.3406  2.3335  2.3477   \n",
       "5  2.5091  ...  2.3644  2.3506  2.3506  2.3309  2.3419  2.3325  2.3483   \n",
       "6  2.5097  ...  2.3638  2.3506  2.3496  2.3306  2.3422  2.3332  2.3483   \n",
       "7  2.5104  ...  2.3660  2.3496  2.3502  2.3332  2.3425  2.3332  2.3486   \n",
       "8  2.5126  ...  2.3651  2.3496  2.3519  2.3306  2.3432  2.3332  2.3480   \n",
       "9  2.5113  ...  2.3641  2.3499  2.3502  2.3309  2.3412  2.3341  2.3473   \n",
       "\n",
       "       g9     g10  encoder  \n",
       "0  2.3577  2.3535   0.2452  \n",
       "1  2.3580  2.3538   0.2478  \n",
       "2  2.3580  2.3548   0.2449  \n",
       "3  2.3580  2.3538   0.2429  \n",
       "4  2.3564  2.3531   0.2391  \n",
       "5  2.3560  2.3535   0.2310  \n",
       "6  2.3583  2.3541   0.2249  \n",
       "7  2.3580  2.3538   0.2214  \n",
       "8  2.3589  2.3531   0.2207  \n",
       "9  2.3583  2.3525   0.2239  \n",
       "\n",
       "[10 rows x 31 columns]"
      ]
     },
     "execution_count": 3,
     "metadata": {},
     "output_type": "execute_result"
    }
   ],
   "source": [
    "df.head(10)"
   ]
  },
  {
   "cell_type": "markdown",
   "metadata": {},
   "source": [
    "## Graphs"
   ]
  },
  {
   "cell_type": "markdown",
   "metadata": {},
   "source": [
    "### Bx (horizontal) component"
   ]
  },
  {
   "cell_type": "code",
   "execution_count": 4,
   "metadata": {},
   "outputs": [
    {
     "data": {
      "image/png": "[encoded data removed]",
      "text/plain": [
       "<Figure size 1080x360 with 1 Axes>"
      ]
     },
     "metadata": {
      "needs_background": "light"
     },
     "output_type": "display_data"
    }
   ],
   "source": [
    "plt.hist(df['bx5'], facecolor='g', alpha=0.75)\n",
    "plt.grid(True)\n",
    "plt.show()"
   ]
  },
  {
   "cell_type": "code",
   "execution_count": 5,
   "metadata": {},
   "outputs": [
    {
     "data": {
      "image/png": "[encoded data removed]",
      "text/plain": [
       "<Figure size 1080x360 with 1 Axes>"
      ]
     },
     "metadata": {
      "needs_background": "light"
     },
     "output_type": "display_data"
    }
   ],
   "source": [
    "plt.plot(df['bx5'], color='b', alpha=0.75)\n",
    "plt.grid(True)\n",
    "plt.show()"
   ]
  },
  {
   "cell_type": "markdown",
   "metadata": {},
   "source": [
    "### Bz1 (vertical) component"
   ]
  },
  {
   "cell_type": "code",
   "execution_count": 6,
   "metadata": {},
   "outputs": [
    {
     "data": {
      "image/png": "[encoded data removed]",
      "text/plain": [
       "<Figure size 1080x360 with 1 Axes>"
      ]
     },
     "metadata": {
      "needs_background": "light"
     },
     "output_type": "display_data"
    }
   ],
   "source": [
    "plt.hist(df['bz1v5'], facecolor='g', alpha=0.75)\n",
    "plt.grid(True)\n",
    "plt.show()"
   ]
  },
  {
   "cell_type": "code",
   "execution_count": 7,
   "metadata": {},
   "outputs": [
    {
     "data": {
      "image/png": "[encoded data removed]",
      "text/plain": [
       "<Figure size 1080x360 with 1 Axes>"
      ]
     },
     "metadata": {
      "needs_background": "light"
     },
     "output_type": "display_data"
    }
   ],
   "source": [
    "plt.plot(df['bz1v5'], color='b', alpha=0.75)\n",
    "plt.grid(True)\n",
    "plt.show()"
   ]
  },
  {
   "cell_type": "markdown",
   "metadata": {},
   "source": [
    "### Differentiation"
   ]
  },
  {
   "cell_type": "code",
   "execution_count": 8,
   "metadata": {},
   "outputs": [
    {
     "data": {
      "image/png": "[encoded data removed]",
      "text/plain": [
       "<Figure size 1080x360 with 1 Axes>"
      ]
     },
     "metadata": {
      "needs_background": "light"
     },
     "output_type": "display_data"
    }
   ],
   "source": [
    "plt.hist(df['g5'], facecolor='g', alpha=0.75)\n",
    "plt.grid(True)\n",
    "plt.show()"
   ]
  },
  {
   "cell_type": "code",
   "execution_count": 9,
   "metadata": {},
   "outputs": [
    {
     "data": {
      "image/png": "[encoded data removed]",
      "text/plain": [
       "<Figure size 1080x360 with 1 Axes>"
      ]
     },
     "metadata": {
      "needs_background": "light"
     },
     "output_type": "display_data"
    }
   ],
   "source": [
    "plt.plot(df['g5'], color='b', alpha=0.75)\n",
    "plt.grid(True)\n",
    "plt.show()"
   ]
  },
  {
   "cell_type": "markdown",
   "metadata": {},
   "source": [
    "## Model creation"
   ]
  },
  {
   "cell_type": "code",
   "execution_count": 135,
   "metadata": {},
   "outputs": [],
   "source": [
    "from sklearn.cluster import KMeans, SpectralClustering, MiniBatchKMeans, OPTICS"
   ]
  },
  {
   "cell_type": "code",
   "execution_count": 136,
   "metadata": {},
   "outputs": [
    {
     "data": {
      "text/plain": [
       "array([[2.4881],\n",
       "       [2.4878],\n",
       "       [2.4878],\n",
       "       ...,\n",
       "       [2.6444],\n",
       "       [2.6463],\n",
       "       [2.6463]])"
      ]
     },
     "execution_count": 136,
     "metadata": {},
     "output_type": "execute_result"
    }
   ],
   "source": [
    "# preparing data\n",
    "x = df[['bx5']].to_numpy()\n",
    "x.reshape(-1,1)\n",
    "x"
   ]
  },
  {
   "cell_type": "markdown",
   "metadata": {},
   "source": [
    "### Algorithms"
   ]
  },
  {
   "cell_type": "code",
   "execution_count": 137,
   "metadata": {},
   "outputs": [],
   "source": [
    "kmeans = KMeans(n_clusters=5, random_state=42).fit(x)"
   ]
  },
  {
   "cell_type": "code",
   "execution_count": 138,
   "metadata": {},
   "outputs": [],
   "source": [
    "mbmeans = MiniBatchKMeans(n_clusters=5, batch_size=64, random_state=42).fit(x)"
   ]
  },
  {
   "cell_type": "code",
   "execution_count": 139,
   "metadata": {},
   "outputs": [],
   "source": [
    "esp_clustering = MiniBatchKMeans(n_clusters=5, random_state=42).fit(x)"
   ]
  },
  {
   "cell_type": "code",
   "execution_count": 140,
   "metadata": {},
   "outputs": [],
   "source": [
    "kmeans_predicted = kmeans.predict(x)\n",
    "mbmeans_predicted = mbmeans.predict(x)\n",
    "esp_predicted = esp_clustering.predict(x)"
   ]
  },
  {
   "cell_type": "code",
   "execution_count": 143,
   "metadata": {},
   "outputs": [
    {
     "data": {
      "text/plain": [
       "<matplotlib.collections.PathCollection at 0x7fba7b947160>"
      ]
     },
     "execution_count": 143,
     "metadata": {},
     "output_type": "execute_result"
    },
    {
     "data": {
      "image/png": "[encoded data removed]",
      "text/plain": [
       "<Figure size 1080x720 with 3 Axes>"
      ]
     },
     "metadata": {
      "needs_background": "light"
     },
     "output_type": "display_data"
    }
   ],
   "source": [
    "fig, ax = plt.subplots(3, 1,figsize=(15, 10))\n",
    "\n",
    "ax[0].scatter(range(len(x)), x, c=kmeans_predicted, s=5, cmap='cool')\n",
    "\n",
    "ax[1].scatter(range(len(x)), x, c=mbmeans_predicted, s=5, cmap='cool')\n",
    "\n",
    "ax[2].scatter(range(len(x)), x, c=esp_predicted, s=5, cmap='cool')"
   ]
  },
  {
   "cell_type": "code",
   "execution_count": null,
   "metadata": {},
   "outputs": [],
   "source": []
  }
 ],
 "metadata": {
  "kernelspec": {
   "display_name": "Python 3",
   "language": "python",
   "name": "python3"
  },
  "language_info": {
   "codemirror_mode": {
    "name": "ipython",
    "version": 3
   },
   "file_extension": ".py",
   "mimetype": "text/x-python",
   "name": "python",
   "nbconvert_exporter": "python",
   "pygments_lexer": "ipython3",
   "version": "3.7.3"
  }
 },
 "nbformat": 4,
 "nbformat_minor": 4
}
